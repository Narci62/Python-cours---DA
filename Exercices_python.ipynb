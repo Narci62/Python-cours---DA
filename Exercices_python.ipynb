{
  "nbformat": 4,
  "nbformat_minor": 0,
  "metadata": {
    "colab": {
      "provenance": [],
      "mount_file_id": "1k-ZAWbByOLHPLYOwxc5BvoPiy0GX5HVI",
      "authorship_tag": "ABX9TyM0DvonrwnspklPJU5jgbDa",
      "include_colab_link": true
    },
    "kernelspec": {
      "name": "python3",
      "display_name": "Python 3"
    },
    "language_info": {
      "name": "python"
    }
  },
  "cells": [
    {
      "cell_type": "markdown",
      "metadata": {
        "id": "view-in-github",
        "colab_type": "text"
      },
      "source": [
        "<a href=\"https://colab.research.google.com/github/Narci62/Python-cours---DA/blob/main/Exercices_python.ipynb\" target=\"_parent\"><img src=\"https://colab.research.google.com/assets/colab-badge.svg\" alt=\"Open In Colab\"/></a>"
      ]
    },
    {
      "cell_type": "markdown",
      "source": [
        "Ecris une fonction nommée devinette qui ne prend aucun argument. Quand on l'exécute, elle choisit un nombre aléatoire en 0 et 100 (inclus)et demande à l'utilisateur de deviner ce nombre.A chaque fois que l'utilisateur entre un nombre, le programme affiche l'une de ces phrases :\n",
        "\n",
        "Trop grand\n",
        "Trop petit\n",
        "Exact\n",
        "Si l'utilisateur a choisit correctement, le programme s'arrete. Sinon, le programme demande encore à l'utilisateur de rentrer un nouveau nombre jusqu'à ce qu'il trouve la bonne solution et s'arrête."
      ],
      "metadata": {
        "id": "Z9mg88cyWgoI"
      }
    },
    {
      "cell_type": "code",
      "execution_count": null,
      "metadata": {
        "id": "VHYPiIogS0H2"
      },
      "outputs": [],
      "source": [
        "\n",
        "import random\n",
        "\n",
        "def devinette():\n",
        "  nombre = random.randint(0,100)\n",
        "  nbre = int(input('Entrer un nombre compris en 0 et 100 : '))\n",
        "  while(nombre != nbre):\n",
        "    if(nbre>nombre):\n",
        "      print(f\"{nbre} est trop grand\")\n",
        "    else:\n",
        "      print(f\"{nbre} est trop petit\")\n",
        "    nbre = int(input('Entrer un nombre compris en 0 et 100 : '))\n",
        "  if(nbre == nombre):\n",
        "    print(\"Exact\")\n",
        "\n"
      ]
    },
    {
      "cell_type": "code",
      "source": [
        "devinette()"
      ],
      "metadata": {
        "colab": {
          "base_uri": "https://localhost:8080/"
        },
        "id": "Am0sA4Q4Vflk",
        "outputId": "263d4420-d04d-402f-b1fc-47f69b51eb20"
      },
      "execution_count": null,
      "outputs": [
        {
          "output_type": "stream",
          "name": "stdout",
          "text": [
            "Entrer un nombre compris en 0 et 100 : 50\n",
            "50 trop petit\n",
            "Entrer un nombre compris en 0 et 100 : 60\n",
            "60 est trop grand\n",
            "Entrer un nombre compris en 0 et 100 : 54\n",
            "54 trop petit\n",
            "Entrer un nombre compris en 0 et 100 : 57\n",
            "57 est trop grand\n",
            "Entrer un nombre compris en 0 et 100 : 56\n",
            "Exact\n"
          ]
        }
      ]
    },
    {
      "cell_type": "markdown",
      "source": [
        "Reprend ton code pour le programme précédent. Modifie le pour donner seulement 3 chances à l'utilisateur pour deviner le nombre aléatoire choisit. Après 3 tentatives echouées, le programme s'arrête et affiche à l'utilisateur qu'il a épuisé ses chances."
      ],
      "metadata": {
        "id": "uq23Lk-4Wm9K"
      }
    },
    {
      "cell_type": "code",
      "source": [
        "def devinette2():\n",
        "  nombre = random.randint(0,100)\n",
        "  nbre = int(input('Entrer un nombre compris en 0 et 100 : '))\n",
        "  tour = 2 #tour est à 2 parceque l'utilisateur tentera déjà sa prémière chance dans la ligne précédente\n",
        "  while(nombre != nbre and tour>0):\n",
        "    tour -=1\n",
        "    if(nbre>nombre):\n",
        "      print(f\"{nbre} est trop grand\")\n",
        "    else:\n",
        "      print(f\"{nbre} est trop petit\")\n",
        "    nbre = int(input('Entrer un nombre compris en 0 et 100 : '))\n",
        "  if(nbre == nombre):\n",
        "    print(\"Exact\")\n",
        "  else:\n",
        "    print(\"DSL, Vous avez épuisé vos chances\")"
      ],
      "metadata": {
        "id": "Y_f0o2_kW9j1"
      },
      "execution_count": null,
      "outputs": []
    },
    {
      "cell_type": "code",
      "source": [
        "devinette2()"
      ],
      "metadata": {
        "colab": {
          "base_uri": "https://localhost:8080/"
        },
        "id": "m0Acdw9UZj1T",
        "outputId": "11dda823-42b2-4d7d-e201-f2eaedb4ab09"
      },
      "execution_count": null,
      "outputs": [
        {
          "output_type": "stream",
          "name": "stdout",
          "text": [
            "Entrer un nombre compris en 0 et 100 : 40\n",
            "40 est trop petit\n",
            "Entrer un nombre compris en 0 et 100 : 65\n",
            "65 est trop petit\n",
            "Entrer un nombre compris en 0 et 100 : 74\n",
            "DSL, Vous avez épuisé vos chances\n"
          ]
        }
      ]
    },
    {
      "cell_type": "markdown",
      "source": [
        "En Python, la fonction sum te permet de faire la somme des nombres d'une liste. Par exemple:\n",
        "\n",
        "nombres = [5,2,6,8,9,4]\n",
        "sum(nombres)\n",
        "\n",
        "Dans cet exercice, nous allons réecrire cette fonction mais nous la nommerons somme. La fonction somme prend en entrée une liste de nombres et renvoie la somme de ces nombres. Ici, vous n'avez pas le droit d'utiliser la fonction sum de Python. Le but de cet exercice est d'apprendre à implémenter une fonction qui existe déjà et gagner en confiance sur nos capacités à faire des choses que d'autres programmeurs plus expérimentés ont déjà fait."
      ],
      "metadata": {
        "id": "w-arf7klafim"
      }
    },
    {
      "cell_type": "code",
      "source": [
        "sum = 0\n",
        "nombres = [5,2,6,8,9,4]\n",
        "\n",
        "for i in nombres:\n",
        "  sum += i"
      ],
      "metadata": {
        "id": "f05yIjY3ar9f"
      },
      "execution_count": null,
      "outputs": []
    },
    {
      "cell_type": "code",
      "source": [],
      "metadata": {
        "id": "QUvipP6TcGwN"
      },
      "execution_count": null,
      "outputs": []
    },
    {
      "cell_type": "code",
      "source": [
        "sum"
      ],
      "metadata": {
        "colab": {
          "base_uri": "https://localhost:8080/"
        },
        "id": "RQJfQClHbriu",
        "outputId": "e6db2cf8-c969-49b8-e16a-05df15cd9411"
      },
      "execution_count": null,
      "outputs": [
        {
          "output_type": "execute_result",
          "data": {
            "text/plain": [
              "34"
            ]
          },
          "metadata": {},
          "execution_count": 12
        }
      ]
    },
    {
      "cell_type": "markdown",
      "source": [
        "Vous êtes chargé d'octroyer les emails des nouveaux employés de votre entreprise. Vous travaillez chez PythonBoss. L'adresse email de vos employés est sous le format prenom_nom@pythonboss.com. Vous souhaitez écrire un programme pour automatiser cela. La programme demande à un utilisateur son prenom, puis son nom et affiche son adresse email. Par exemple Kevin Degila aura comme adresse email : kevin_degila@pythonboss.com . Ici vous devrez remarquer que l'adresse email ne contient que des lettres miniscules: C'est la préférence du directeur de PythonBoss. Vous avez intérêt à le satisfaire.\n"
      ],
      "metadata": {
        "id": "snvXdUUScJ5z"
      }
    },
    {
      "cell_type": "code",
      "source": [
        "\"Programme qui recupère le prénom et le nom du nouvel employé et qui renvoie son adresse email\"\n",
        "\n",
        "prenom = input(\"Entrer votre prénom : \").lower()\n",
        "nom = input(\"Entrer votre nom : \").lower()\n",
        "email = prenom+\"_\"+nom+\"@pythonboss\"\n",
        "\n",
        "print(f\"{nom} {prenom}, votre adresse email est : {email}\")\n",
        "\n",
        "\n"
      ],
      "metadata": {
        "colab": {
          "base_uri": "https://localhost:8080/"
        },
        "id": "yYjc8GIKcMci",
        "outputId": "cce1e030-35b1-41b7-f23d-eb3a62ea3be8"
      },
      "execution_count": null,
      "outputs": [
        {
          "output_type": "stream",
          "name": "stdout",
          "text": [
            "Entrer votre prénom : Narcisse\n",
            "Entrer votre nom : KODONOU\n",
            "kodonou narcisse, votre adresse email est : narcisse_kodonou@pythonboss\n"
          ]
        }
      ]
    },
    {
      "cell_type": "markdown",
      "source": [
        "Dans cet exercice, vous allez écrire une fonction ordonne_str qui prend une chaîne de caractères (string) et retourne ce même string mais en l'ordonnant par ordre alphabétique."
      ],
      "metadata": {
        "id": "8WSfQJQsd_e_"
      }
    },
    {
      "cell_type": "code",
      "source": [
        "def ordonne_str(chaine):\n",
        "  return \"\".join(sorted(chaine.lower()))\n",
        "  \"lower() convertir la chaine en minuscule, sorted() fait le triee en ordre alphabetique et ''.join() fusionne les caractères\"\n"
      ],
      "metadata": {
        "id": "ubZ1-zrfeAmp"
      },
      "execution_count": null,
      "outputs": []
    },
    {
      "cell_type": "code",
      "source": [
        "ordonne_str(\"Narcisse\")"
      ],
      "metadata": {
        "colab": {
          "base_uri": "https://localhost:8080/",
          "height": 35
        },
        "id": "63FvXBgqe9yR",
        "outputId": "a296f6db-0650-42dd-dbda-2fd42505c872"
      },
      "execution_count": null,
      "outputs": [
        {
          "output_type": "execute_result",
          "data": {
            "text/plain": [
              "'aceinrss'"
            ],
            "application/vnd.google.colaboratory.intrinsic+json": {
              "type": "string"
            }
          },
          "metadata": {},
          "execution_count": 17
        }
      ]
    },
    {
      "cell_type": "markdown",
      "source": [
        "A quoi ressemblerait le Français sans voyelle ? Nous allons écrire une fonction qui prend une chaine de caractères et enlève les voyelles.\n",
        "\n",
        "Pour rappel, les voyelles en français sont : a e i o u y"
      ],
      "metadata": {
        "id": "e6nm4i_1hZvF"
      }
    },
    {
      "cell_type": "code",
      "source": [
        "def fn(chaine):\n",
        "  for i,value in enumerate(chaine.lower()):\n",
        "    if value in ['a','e','i','o','u','y'] :\n",
        "      chaine=chaine.replace(value,'')\n",
        "  return chaine\n",
        "    "
      ],
      "metadata": {
        "id": "zCzjXvgQhbLo"
      },
      "execution_count": null,
      "outputs": []
    },
    {
      "cell_type": "code",
      "source": [
        "fn('Narcisse')"
      ],
      "metadata": {
        "colab": {
          "base_uri": "https://localhost:8080/",
          "height": 35
        },
        "id": "z9ScvRzLiZY-",
        "outputId": "2ab79944-4bc2-44ff-aa0e-e53eed9483ec"
      },
      "execution_count": null,
      "outputs": [
        {
          "output_type": "execute_result",
          "data": {
            "text/plain": [
              "'Nrcss'"
            ],
            "application/vnd.google.colaboratory.intrinsic+json": {
              "type": "string"
            }
          },
          "metadata": {},
          "execution_count": 25
        }
      ]
    },
    {
      "cell_type": "markdown",
      "source": [
        "Modifie la précedente fonction pour quelle prenne desormais en entrée une phrase, c'est à dire des mots séparés par des espaces. Il enlève toutes les voyelles sauf la lettre a."
      ],
      "metadata": {
        "id": "x-f5kM6Bjuu7"
      }
    },
    {
      "cell_type": "code",
      "source": [
        "def fn2(chaine):\n",
        "  for i,value in enumerate(chaine.lower()):\n",
        "    if value in ['e','i','o','u','y'] :\n",
        "      chaine=chaine.replace(value,'')\n",
        "  return chaine"
      ],
      "metadata": {
        "id": "C6T3XVyMjv09"
      },
      "execution_count": null,
      "outputs": []
    },
    {
      "cell_type": "code",
      "source": [
        "fn2(\"Je m'appel kodonou narcisse et et j'apprends python\")"
      ],
      "metadata": {
        "colab": {
          "base_uri": "https://localhost:8080/",
          "height": 35
        },
        "id": "t5q8GHblj6VU",
        "outputId": "3f601a3b-d6fb-43db-bf63-4a05a29c93b5"
      },
      "execution_count": null,
      "outputs": [
        {
          "output_type": "execute_result",
          "data": {
            "text/plain": [
              "\"J m'appl kdn narcss t t j'apprnds pthn\""
            ],
            "application/vnd.google.colaboratory.intrinsic+json": {
              "type": "string"
            }
          },
          "metadata": {},
          "execution_count": 27
        }
      ]
    },
    {
      "cell_type": "markdown",
      "source": [
        "fonction qui prend en Entrée, une liste, un tuple ou un string et retourne une variable du même type mais avec le premier et le dernier élément de la séquence"
      ],
      "metadata": {
        "id": "CIlIv1ZPoQxb"
      }
    },
    {
      "cell_type": "code",
      "source": [
        "def sentense(sequence):\n",
        "  if(isinstance(sequence, str)):\n",
        "    return sequence[0]+sequence[-1]\n",
        "  elif(isinstance(sequence, list)):\n",
        "    return [sequence[0],sequence[-1]]\n",
        "  elif(isinstance(sequence, tuple)):\n",
        "    return (sequence[0],sequence[-1])\n",
        "  else:\n",
        "    raise TypeError(\"Format de donnée non valide\")"
      ],
      "metadata": {
        "id": "WuIpoO0RoUNx"
      },
      "execution_count": null,
      "outputs": []
    },
    {
      "cell_type": "code",
      "source": [
        "sentense((\"n\",\"i\",\"f\",\"p\"))"
      ],
      "metadata": {
        "colab": {
          "base_uri": "https://localhost:8080/"
        },
        "id": "HE7Slb0wqXa4",
        "outputId": "59bdaa58-5c2c-4489-96d6-5cd82bdbe26c"
      },
      "execution_count": null,
      "outputs": [
        {
          "output_type": "execute_result",
          "data": {
            "text/plain": [
              "('n', 'p')"
            ]
          },
          "metadata": {},
          "execution_count": 31
        }
      ]
    },
    {
      "cell_type": "markdown",
      "source": [
        "Dans cet exercice, vous allez écrire une fonction qui prend entrée, une liste de nombre et retourne une liste contenant:\n",
        "\n",
        "La somme des éléments d'index pairs\n",
        "La somme des éléments d'index impairs"
      ],
      "metadata": {
        "id": "eaJYECbRr076"
      }
    },
    {
      "cell_type": "code",
      "source": [
        "def pair_impair(liste):\n",
        "  pair=impair=0\n",
        "  if(isinstance(liste, list)):\n",
        "    for i,nb in enumerate(liste):\n",
        "      if(i%2==0):\n",
        "        pair +=nb\n",
        "      else:\n",
        "        impair += nb\n",
        "    return [pair,impair]\n",
        "  else:\n",
        "    print('Veuillez entrer une liste de nombre')\n",
        "\n"
      ],
      "metadata": {
        "id": "KhE8TF6Nr2Bb"
      },
      "execution_count": 2,
      "outputs": []
    },
    {
      "cell_type": "code",
      "source": [
        "pair_impair([1,8,3,4,20,7])"
      ],
      "metadata": {
        "colab": {
          "base_uri": "https://localhost:8080/"
        },
        "id": "QgQMCgCKs2uL",
        "outputId": "af6fc7b9-fe22-4b11-bc82-6f6b1d5ed27a"
      },
      "execution_count": null,
      "outputs": [
        {
          "output_type": "execute_result",
          "data": {
            "text/plain": [
              "[24, 19]"
            ]
          },
          "metadata": {},
          "execution_count": 33
        }
      ]
    },
    {
      "cell_type": "code",
      "source": [
        "pair_impair(7)"
      ],
      "metadata": {
        "colab": {
          "base_uri": "https://localhost:8080/"
        },
        "id": "oQsKgWxDtAx9",
        "outputId": "1de28b6f-01b6-45d5-e23a-63ca7e142f1a"
      },
      "execution_count": 3,
      "outputs": [
        {
          "output_type": "stream",
          "name": "stdout",
          "text": [
            "Veuillez entrer une liste de nombre\n"
          ]
        }
      ]
    },
    {
      "cell_type": "markdown",
      "source": [
        "Dans cet exercice, tu es appélé à écrire une fonction mot_lettre_repetee qui prend en entrée, une liste de mots. Pour chaque mot, trouve la lettre qui se répète le plus. La focntion retourne alors le mot ayant une lettre qui se répète le plus de fois (dans ce même mot, bien sûr)."
      ],
      "metadata": {
        "id": "I5a_8ScqunDV"
      }
    },
    {
      "cell_type": "code",
      "source": [
        "def mot_lettre_repetee(name): # name prend la liste\n",
        "  count = 0\n",
        "  for i,element in enumerate(name):\n",
        "    for j,nbres in enumerate(element):\n",
        "      if (count < element.count(nbres)):\n",
        "        count = element.count(nbres)\n",
        "        result = element\n",
        "  return result"
      ],
      "metadata": {
        "id": "mOkGmbxVobg6"
      },
      "execution_count": 28,
      "outputs": []
    },
    {
      "cell_type": "code",
      "source": [
        "mot_lettre_repetee([\"On\", \"a\", \"effectuee\", \"plusieurs\", \"tests\", \"elementaire\", \"ce\", \"matin\"])"
      ],
      "metadata": {
        "colab": {
          "base_uri": "https://localhost:8080/",
          "height": 35
        },
        "id": "OE6ljjeYvXZt",
        "outputId": "3c43a39c-0816-4c77-d7e9-c7bbb11493c8"
      },
      "execution_count": 29,
      "outputs": [
        {
          "output_type": "execute_result",
          "data": {
            "text/plain": [
              "'effectuee'"
            ],
            "application/vnd.google.colaboratory.intrinsic+json": {
              "type": "string"
            }
          },
          "metadata": {},
          "execution_count": 29
        }
      ]
    },
    {
      "cell_type": "markdown",
      "source": [
        "Ecrivez une fonction qui prend une liste des nombres et qui retourne une liste qui contient la distance entre les différents nombres successifs.\n",
        "\n",
        "Exemple\n",
        "\n",
        "* input : [65, 54, 59]\n",
        "* output : [11, 5]\n"
      ],
      "metadata": {
        "id": "4dtyNu4N2JUk"
      }
    },
    {
      "cell_type": "code",
      "source": [
        "\n",
        "def dist(listes):\n",
        "  result = []\n",
        "  for i,value in enumerate(listes):\n",
        "    if(i>0):\n",
        "      nbre = listes[i-1]\n",
        "      calcul = value - nbre\n",
        "      result.append(abs(calcul))\n",
        "  return result\n",
        "#execution\n",
        "dist([20,50,4,9,3])"
      ],
      "metadata": {
        "colab": {
          "base_uri": "https://localhost:8080/"
        },
        "id": "R3-CsrMQxbvo",
        "outputId": "4806ecdf-067d-41d6-a9e2-6af72c8fa654"
      },
      "execution_count": 43,
      "outputs": [
        {
          "output_type": "execute_result",
          "data": {
            "text/plain": [
              "[30, 46, 5, 6]"
            ]
          },
          "metadata": {},
          "execution_count": 43
        }
      ]
    },
    {
      "cell_type": "markdown",
      "source": [
        "Ecrivez une fonction qui prend en input une chaine de caractères contenant des lettres et retourne une liste de tuple qui contient successivement chaque lettre et le nombre d'occurences successives. Exemple :\n",
        "\n",
        "input : 'aaaccdaad\"\n",
        "output : [(a,3), (c, 2), (d, 1), (a,2), (d, 1)]"
      ],
      "metadata": {
        "id": "hsrq8sAY2I7_"
      }
    },
    {
      "cell_type": "code",
      "source": [
        "def lettre_occ(chaine):\n",
        "  tup=[]\n",
        "  for i,dne in enumerate(chaine):\n",
        "    if (dne,chaine.count(dne)) not in tup:\n",
        "      tup.append((dne,chaine.count(dne)))\n",
        "  return tup\n",
        "#execution\n",
        "lettre_occ(\"naaaaarcisse\")"
      ],
      "metadata": {
        "colab": {
          "base_uri": "https://localhost:8080/"
        },
        "id": "LwQY1yQ33QUM",
        "outputId": "6a4f1c21-78e0-488e-bcdb-822b43dbb903"
      },
      "execution_count": 53,
      "outputs": [
        {
          "output_type": "execute_result",
          "data": {
            "text/plain": [
              "[('n', 1), ('a', 5), ('r', 1), ('c', 1), ('i', 1), ('s', 2), ('e', 1)]"
            ]
          },
          "metadata": {},
          "execution_count": 53
        }
      ]
    },
    {
      "cell_type": "markdown",
      "source": [
        "Dans cet exercice, vous allez écrire le code pour l'application mobile de votre restaurant afin de permettre aux clients de commander en ligne.\n",
        "\n",
        "Vous allez d'abord définir un menu sous forme de dictionnaire. Les clés (chaines de caractères) sont les différents repas ou boissons que vous servez et les valeurs (integers ou float) sont leurs prix correspondants. Une fonction restaurant se chargera de demander à l'utilisateur sa commande:\n",
        "\n",
        "Si la commande existe dans notre menu, le programme affiche son prix et le total actuel de ses commandes, puis lui demande d'entrée une nouvelle commande.\n",
        "Si la commande n'existe pas dans notre menu, on le dit à l'utilisateur et lui demande de commander autre chose.\n",
        "Si l'utilisateur appuie Entrée sans rien commander, on lui affiche le prix total de sa commande.\n",
        "Exemple :\n",
        "\n",
        "Bienvenu dans notre Restaurant\n",
        "\n",
        "Commande: Burger\n",
        "Burger coûte 10, total est 10\n",
        "Commande: cafe\n",
        "cafe coûte 7, total est 17\n",
        "Commande: Chicha\n",
        "Désolé, Nous n'offrons pas de chicha aujourd'hui.\n",
        "Commande: <entréee>\n",
        "Votre total est 17"
      ],
      "metadata": {
        "id": "wAQCAzdUEuB0"
      }
    },
    {
      "cell_type": "code",
      "source": [
        "menu =  { \"pizza\":6000,\"chawarma\":4500,\"Burger\":6400,\"Sushi\":8000,\"nouille\":3000}\n",
        "\n",
        "def restaurant():\n",
        "  print('Bienvenue dans notre restaurant')\n",
        "  commande = input(\"Commande : \")\n",
        "  if(commande ==\"\"):\n",
        "    print(f\"Votre total est {len(menu)}\")\n",
        "  elif(commande in menu.keys()):\n",
        "    print(f\"{commande} coûte {menu[commande]}, total est {len(menu)}\")\n",
        "  else:\n",
        "    print(f\"Désolé, Nous n'offrons pas {commande} aujourd'hui \")\n",
        "\n",
        "#execution\n",
        "restaurant()"
      ],
      "metadata": {
        "colab": {
          "base_uri": "https://localhost:8080/"
        },
        "id": "eWwr9NQAEvrg",
        "outputId": "e908afe4-ec38-4dc9-acda-4b646e1687fe"
      },
      "execution_count": 80,
      "outputs": [
        {
          "output_type": "stream",
          "name": "stdout",
          "text": [
            "Bienvenue dans notre restaurant\n",
            "Commande : ddre\n",
            "Désolé, Nous n'offrons pas ddre aujourd'hui \n"
          ]
        }
      ]
    }
  ]
}