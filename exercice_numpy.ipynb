{
  "nbformat": 4,
  "nbformat_minor": 0,
  "metadata": {
    "colab": {
      "provenance": [],
      "authorship_tag": "ABX9TyOA5saejx9xXZQJVC5FrZ68",
      "include_colab_link": true
    },
    "kernelspec": {
      "name": "python3",
      "display_name": "Python 3"
    },
    "language_info": {
      "name": "python"
    }
  },
  "cells": [
    {
      "cell_type": "markdown",
      "metadata": {
        "id": "view-in-github",
        "colab_type": "text"
      },
      "source": [
        "<a href=\"https://colab.research.google.com/github/Narci62/Python-cours---DA/blob/main/exercice_numpy.ipynb\" target=\"_parent\"><img src=\"https://colab.research.google.com/assets/colab-badge.svg\" alt=\"Open In Colab\"/></a>"
      ]
    },
    {
      "cell_type": "code",
      "execution_count": 2,
      "metadata": {
        "id": "CTik0FNup9rp"
      },
      "outputs": [],
      "source": [
        "import numpy as np\n",
        "import random\n"
      ]
    },
    {
      "cell_type": "code",
      "source": [
        "x = np.array([\n",
        "       [ 0, 13,  5],\n",
        "       [ 5,  8,  2],\n",
        "       [ 3,  7, 12],\n",
        "       [ 2,  8,  0],\n",
        "       [ 7,  4,  1]\n",
        "])\n",
        "x"
      ],
      "metadata": {
        "colab": {
          "base_uri": "https://localhost:8080/"
        },
        "id": "kzH5wtJAqF-D",
        "outputId": "67243340-ef99-47a1-f0c2-a4e899423e01"
      },
      "execution_count": 43,
      "outputs": [
        {
          "output_type": "execute_result",
          "data": {
            "text/plain": [
              "array([[ 0, 13,  5],\n",
              "       [ 5,  8,  2],\n",
              "       [ 3,  7, 12],\n",
              "       [ 2,  8,  0],\n",
              "       [ 7,  4,  1]])"
            ]
          },
          "metadata": {},
          "execution_count": 43
        }
      ]
    },
    {
      "cell_type": "markdown",
      "source": [
        "Combien de notes sont supérieur à 5 ?"
      ],
      "metadata": {
        "id": "jWKwMLtUqN8L"
      }
    },
    {
      "cell_type": "code",
      "source": [
        "sup_5 = np.sum(x>5)\n",
        "sup_5"
      ],
      "metadata": {
        "colab": {
          "base_uri": "https://localhost:8080/"
        },
        "id": "M2vumJBBqSvy",
        "outputId": "fafb2cd1-8cf4-4ec9-8398-b1593f980829"
      },
      "execution_count": 44,
      "outputs": [
        {
          "output_type": "execute_result",
          "data": {
            "text/plain": [
              "6"
            ]
          },
          "metadata": {},
          "execution_count": 44
        }
      ]
    },
    {
      "cell_type": "markdown",
      "source": [
        "Quel est le nombre de notes supérieur à 8 pour chaque étudiants ?"
      ],
      "metadata": {
        "id": "5zcns4Jhqrks"
      }
    },
    {
      "cell_type": "code",
      "source": [
        "y = np.sum(x>8,axis=1)\n",
        "y"
      ],
      "metadata": {
        "colab": {
          "base_uri": "https://localhost:8080/"
        },
        "id": "xyvRMdajqvGp",
        "outputId": "825121dc-c9ec-4c99-9889-19689ddc1456"
      },
      "execution_count": 14,
      "outputs": [
        {
          "output_type": "execute_result",
          "data": {
            "text/plain": [
              "array([0, 1, 0, 1, 2])"
            ]
          },
          "metadata": {},
          "execution_count": 14
        }
      ]
    },
    {
      "cell_type": "markdown",
      "source": [
        "Quel est le nombre d'élèves ayant au moins 2 notes supérieures à 8 ?"
      ],
      "metadata": {
        "id": "hJiNL8BorhNp"
      }
    },
    {
      "cell_type": "code",
      "source": [
        "x"
      ],
      "metadata": {
        "colab": {
          "base_uri": "https://localhost:8080/"
        },
        "id": "YYhStnMJroec",
        "outputId": "104c259c-e107-48d0-b1f2-4257172ce0a3"
      },
      "execution_count": 8,
      "outputs": [
        {
          "output_type": "execute_result",
          "data": {
            "text/plain": [
              "array([[ 7,  6,  7],\n",
              "       [14,  5,  8],\n",
              "       [ 5,  3,  1],\n",
              "       [14,  2,  4],\n",
              "       [ 5,  9, 11]])"
            ]
          },
          "metadata": {},
          "execution_count": 8
        }
      ]
    },
    {
      "cell_type": "code",
      "source": [
        "y = np.sum(np.sum(x>8,axis=1)>=2)\n",
        "y"
      ],
      "metadata": {
        "colab": {
          "base_uri": "https://localhost:8080/"
        },
        "id": "OhOU6IZZrqC2",
        "outputId": "4cebdf43-5773-41c5-c10a-f8532cb5ec8f"
      },
      "execution_count": 18,
      "outputs": [
        {
          "output_type": "execute_result",
          "data": {
            "text/plain": [
              "1"
            ]
          },
          "metadata": {},
          "execution_count": 18
        }
      ]
    },
    {
      "cell_type": "markdown",
      "source": [
        "Est-ce que tous les élèves ont une note supérieur à 3 ?"
      ],
      "metadata": {
        "id": "NxBFPkdjt6z5"
      }
    },
    {
      "cell_type": "code",
      "source": [
        "np.all(x>3)"
      ],
      "metadata": {
        "colab": {
          "base_uri": "https://localhost:8080/"
        },
        "id": "5ZucVP9MuA4Z",
        "outputId": "3b1650c0-837b-4ca0-f3ae-188930f57567"
      },
      "execution_count": 24,
      "outputs": [
        {
          "output_type": "execute_result",
          "data": {
            "text/plain": [
              "False"
            ]
          },
          "metadata": {},
          "execution_count": 24
        }
      ]
    },
    {
      "cell_type": "markdown",
      "source": [
        "Est-ce qu'il y au moins un élève ayant au moins une note supérieur à 12 ?"
      ],
      "metadata": {
        "id": "KdAd1PKUu1jA"
      }
    },
    {
      "cell_type": "code",
      "source": [
        "np.any(x>12)"
      ],
      "metadata": {
        "colab": {
          "base_uri": "https://localhost:8080/"
        },
        "id": "U86vjjh3u5oi",
        "outputId": "0a4ea8a6-a0b1-4514-dfc5-b11533e65879"
      },
      "execution_count": 25,
      "outputs": [
        {
          "output_type": "execute_result",
          "data": {
            "text/plain": [
              "True"
            ]
          },
          "metadata": {},
          "execution_count": 25
        }
      ]
    },
    {
      "cell_type": "markdown",
      "source": [
        "Quelle est la moyenne en Math et Physique de la classe si on considère uniquement les 3 élèves dont les notes apparaissent en premier ?"
      ],
      "metadata": {
        "id": "jb-8M8ueu_4o"
      }
    },
    {
      "cell_type": "code",
      "source": [
        "x"
      ],
      "metadata": {
        "colab": {
          "base_uri": "https://localhost:8080/"
        },
        "id": "ShgZeoJivAr_",
        "outputId": "88097d83-5a28-47b5-ecdd-679bf1f1b01a"
      },
      "execution_count": 26,
      "outputs": [
        {
          "output_type": "execute_result",
          "data": {
            "text/plain": [
              "array([[ 7,  6,  7],\n",
              "       [14,  5,  8],\n",
              "       [ 5,  3,  1],\n",
              "       [14,  2,  4],\n",
              "       [ 5,  9, 11]])"
            ]
          },
          "metadata": {},
          "execution_count": 26
        }
      ]
    },
    {
      "cell_type": "code",
      "source": [
        "np.mean(x[0:3,0:2],axis=0)"
      ],
      "metadata": {
        "colab": {
          "base_uri": "https://localhost:8080/"
        },
        "id": "EoxvrLshvB7a",
        "outputId": "a41d08d6-4819-4dfe-ab4c-ca1a73200661"
      },
      "execution_count": 30,
      "outputs": [
        {
          "output_type": "execute_result",
          "data": {
            "text/plain": [
              "array([8.66666667, 4.66666667])"
            ]
          },
          "metadata": {},
          "execution_count": 30
        }
      ]
    },
    {
      "cell_type": "markdown",
      "source": [
        "Combien d'élèves ont au moins 2 notes supérieurs à la médiane des moyennes (élèves) de la classe ?"
      ],
      "metadata": {
        "id": "4NRrCTCtxHsq"
      }
    },
    {
      "cell_type": "code",
      "source": [
        "x"
      ],
      "metadata": {
        "colab": {
          "base_uri": "https://localhost:8080/"
        },
        "id": "4wfda40IxJau",
        "outputId": "56a6fa32-2df7-4325-d39f-adc3f2e4e6fa"
      },
      "execution_count": 31,
      "outputs": [
        {
          "output_type": "execute_result",
          "data": {
            "text/plain": [
              "array([[ 7,  6,  7],\n",
              "       [14,  5,  8],\n",
              "       [ 5,  3,  1],\n",
              "       [14,  2,  4],\n",
              "       [ 5,  9, 11]])"
            ]
          },
          "metadata": {},
          "execution_count": 31
        }
      ]
    },
    {
      "cell_type": "code",
      "source": [
        "moy = np.mean(x,axis=1)\n",
        "moy\n"
      ],
      "metadata": {
        "colab": {
          "base_uri": "https://localhost:8080/"
        },
        "id": "C50qqGBBxMz1",
        "outputId": "c32d9167-2577-4d96-d68a-761702ebf838"
      },
      "execution_count": 38,
      "outputs": [
        {
          "output_type": "execute_result",
          "data": {
            "text/plain": [
              "array([6.66666667, 9.        , 3.        , 6.66666667, 8.33333333])"
            ]
          },
          "metadata": {},
          "execution_count": 38
        }
      ]
    },
    {
      "cell_type": "code",
      "source": [
        "med = np.median(moy)\n",
        "med"
      ],
      "metadata": {
        "colab": {
          "base_uri": "https://localhost:8080/"
        },
        "id": "nldiyEQdxbhW",
        "outputId": "0e4411d2-e781-40c9-c7b4-f22f9cccd187"
      },
      "execution_count": 39,
      "outputs": [
        {
          "output_type": "execute_result",
          "data": {
            "text/plain": [
              "6.666666666666667"
            ]
          },
          "metadata": {},
          "execution_count": 39
        }
      ]
    },
    {
      "cell_type": "code",
      "source": [
        "a = np.sum(x>med, axis=1) \n",
        "a "
      ],
      "metadata": {
        "colab": {
          "base_uri": "https://localhost:8080/"
        },
        "id": "hrs9HKmX7GED",
        "outputId": "abdb2965-3ce1-4e41-8be1-407b101deadd"
      },
      "execution_count": 51,
      "outputs": [
        {
          "output_type": "execute_result",
          "data": {
            "text/plain": [
              "array([1, 1, 2, 1, 1])"
            ]
          },
          "metadata": {},
          "execution_count": 51
        }
      ]
    },
    {
      "cell_type": "code",
      "source": [
        "b = np.sum(a>=2)\n",
        "b"
      ],
      "metadata": {
        "colab": {
          "base_uri": "https://localhost:8080/"
        },
        "id": "tvQjf8fsK0Um",
        "outputId": "2eccbc64-2429-43bc-aae2-85e6d3865497"
      },
      "execution_count": 52,
      "outputs": [
        {
          "output_type": "execute_result",
          "data": {
            "text/plain": [
              "1"
            ]
          },
          "metadata": {},
          "execution_count": 52
        }
      ]
    },
    {
      "cell_type": "code",
      "source": [
        "x\n"
      ],
      "metadata": {
        "colab": {
          "base_uri": "https://localhost:8080/"
        },
        "id": "vVbURkygMTnk",
        "outputId": "0dda598c-080f-4e81-dc61-1a1144400786"
      },
      "execution_count": 53,
      "outputs": [
        {
          "output_type": "execute_result",
          "data": {
            "text/plain": [
              "array([[ 0, 13,  5],\n",
              "       [ 5,  8,  2],\n",
              "       [ 3,  7, 12],\n",
              "       [ 2,  8,  0],\n",
              "       [ 7,  4,  1]])"
            ]
          },
          "metadata": {},
          "execution_count": 53
        }
      ]
    }
  ]
}